{
 "cells": [
  {
   "cell_type": "markdown",
   "metadata": {},
   "source": [
    "#  Monte Carlo Simulations for Stock Price Predictions "
   ]
  },
  {
   "cell_type": "markdown",
   "metadata": {},
   "source": [
    "### A Monte Carlo simulation runs an enourmous amount of trials with different random numbers generated from an underlying distribution for the uncertain variables.\n",
    "Let us try to implement this using one Technical Indicator as a reference for prediction."
   ]
  },
  {
   "cell_type": "code",
   "execution_count": 2,
   "metadata": {},
   "outputs": [
    {
     "name": "stdout",
     "output_type": "stream",
     "text": [
      "Warning - Certain functionality \n",
      "             requires requests_html, which is not installed.\n",
      "             \n",
      "             Install using: \n",
      "             pip install requests_html\n",
      "             \n",
      "             After installation, you may have to restart your Python session.\n"
     ]
    }
   ],
   "source": [
    "import pandas as pd\n",
    "import numpy as np\n",
    "import matplotlib.pyplot as plt\n",
    "import plotly.graph_objects as go\n",
    "import pandas_datareader as web\n",
    "import datetime\n",
    "\n",
    "import seaborn as sns\n",
    "%matplotlib inline\n",
    "from scipy.stats import norm\n",
    "from yahoo_fin.stock_info import get_data"
   ]
  },
  {
   "cell_type": "code",
   "execution_count": 3,
   "metadata": {},
   "outputs": [],
   "source": [
    "from datetime import date,timedelta"
   ]
  },
  {
   "cell_type": "code",
   "execution_count": 4,
   "metadata": {},
   "outputs": [],
   "source": [
    "BSE= get_data(\"amzn\", start_date=\"12/11/2020\", end_date=date.today(), index_as_date = True, interval=\"1wk\")"
   ]
  },
  {
   "cell_type": "code",
   "execution_count": 5,
   "metadata": {},
   "outputs": [
    {
     "data": {
      "text/html": [
       "<div>\n",
       "<style scoped>\n",
       "    .dataframe tbody tr th:only-of-type {\n",
       "        vertical-align: middle;\n",
       "    }\n",
       "\n",
       "    .dataframe tbody tr th {\n",
       "        vertical-align: top;\n",
       "    }\n",
       "\n",
       "    .dataframe thead th {\n",
       "        text-align: right;\n",
       "    }\n",
       "</style>\n",
       "<table border=\"1\" class=\"dataframe\">\n",
       "  <thead>\n",
       "    <tr style=\"text-align: right;\">\n",
       "      <th></th>\n",
       "      <th>open</th>\n",
       "      <th>high</th>\n",
       "      <th>low</th>\n",
       "      <th>close</th>\n",
       "      <th>adjclose</th>\n",
       "      <th>volume</th>\n",
       "      <th>ticker</th>\n",
       "    </tr>\n",
       "  </thead>\n",
       "  <tbody>\n",
       "    <tr>\n",
       "      <th>2020-12-07</th>\n",
       "      <td>154.449493</td>\n",
       "      <td>157.104996</td>\n",
       "      <td>153.641006</td>\n",
       "      <td>155.820999</td>\n",
       "      <td>155.820999</td>\n",
       "      <td>121898000</td>\n",
       "      <td>AMZN</td>\n",
       "    </tr>\n",
       "    <tr>\n",
       "      <th>2020-12-14</th>\n",
       "      <td>157.149994</td>\n",
       "      <td>163.175507</td>\n",
       "      <td>156.300003</td>\n",
       "      <td>160.082504</td>\n",
       "      <td>160.082504</td>\n",
       "      <td>427458000</td>\n",
       "      <td>AMZN</td>\n",
       "    </tr>\n",
       "    <tr>\n",
       "      <th>2020-12-21</th>\n",
       "      <td>160.000504</td>\n",
       "      <td>161.348495</td>\n",
       "      <td>158.300003</td>\n",
       "      <td>158.634506</td>\n",
       "      <td>158.634506</td>\n",
       "      <td>195038000</td>\n",
       "      <td>AMZN</td>\n",
       "    </tr>\n",
       "    <tr>\n",
       "      <th>2020-12-28</th>\n",
       "      <td>159.699997</td>\n",
       "      <td>167.532501</td>\n",
       "      <td>158.634506</td>\n",
       "      <td>162.846497</td>\n",
       "      <td>162.846497</td>\n",
       "      <td>334524000</td>\n",
       "      <td>AMZN</td>\n",
       "    </tr>\n",
       "    <tr>\n",
       "      <th>2021-01-04</th>\n",
       "      <td>163.500000</td>\n",
       "      <td>163.600006</td>\n",
       "      <td>156.557999</td>\n",
       "      <td>159.134995</td>\n",
       "      <td>159.134995</td>\n",
       "      <td>370278000</td>\n",
       "      <td>AMZN</td>\n",
       "    </tr>\n",
       "    <tr>\n",
       "      <th>...</th>\n",
       "      <td>...</td>\n",
       "      <td>...</td>\n",
       "      <td>...</td>\n",
       "      <td>...</td>\n",
       "      <td>...</td>\n",
       "      <td>...</td>\n",
       "      <td>...</td>\n",
       "    </tr>\n",
       "    <tr>\n",
       "      <th>2024-04-01</th>\n",
       "      <td>180.789993</td>\n",
       "      <td>186.270004</td>\n",
       "      <td>178.380005</td>\n",
       "      <td>185.070007</td>\n",
       "      <td>185.070007</td>\n",
       "      <td>176792100</td>\n",
       "      <td>AMZN</td>\n",
       "    </tr>\n",
       "    <tr>\n",
       "      <th>2024-04-08</th>\n",
       "      <td>186.899994</td>\n",
       "      <td>189.770004</td>\n",
       "      <td>182.669998</td>\n",
       "      <td>186.130005</td>\n",
       "      <td>186.130005</td>\n",
       "      <td>190222400</td>\n",
       "      <td>AMZN</td>\n",
       "    </tr>\n",
       "    <tr>\n",
       "      <th>2024-04-15</th>\n",
       "      <td>187.429993</td>\n",
       "      <td>188.690002</td>\n",
       "      <td>173.440002</td>\n",
       "      <td>174.630005</td>\n",
       "      <td>174.630005</td>\n",
       "      <td>198977200</td>\n",
       "      <td>AMZN</td>\n",
       "    </tr>\n",
       "    <tr>\n",
       "      <th>2024-04-22</th>\n",
       "      <td>176.940002</td>\n",
       "      <td>180.820007</td>\n",
       "      <td>166.320007</td>\n",
       "      <td>179.619995</td>\n",
       "      <td>179.619995</td>\n",
       "      <td>202325700</td>\n",
       "      <td>AMZN</td>\n",
       "    </tr>\n",
       "    <tr>\n",
       "      <th>2024-04-29</th>\n",
       "      <td>182.750000</td>\n",
       "      <td>183.529999</td>\n",
       "      <td>174.800003</td>\n",
       "      <td>175.000000</td>\n",
       "      <td>175.000000</td>\n",
       "      <td>147809700</td>\n",
       "      <td>AMZN</td>\n",
       "    </tr>\n",
       "  </tbody>\n",
       "</table>\n",
       "<p>178 rows × 7 columns</p>\n",
       "</div>"
      ],
      "text/plain": [
       "                  open        high         low       close    adjclose  \\\n",
       "2020-12-07  154.449493  157.104996  153.641006  155.820999  155.820999   \n",
       "2020-12-14  157.149994  163.175507  156.300003  160.082504  160.082504   \n",
       "2020-12-21  160.000504  161.348495  158.300003  158.634506  158.634506   \n",
       "2020-12-28  159.699997  167.532501  158.634506  162.846497  162.846497   \n",
       "2021-01-04  163.500000  163.600006  156.557999  159.134995  159.134995   \n",
       "...                ...         ...         ...         ...         ...   \n",
       "2024-04-01  180.789993  186.270004  178.380005  185.070007  185.070007   \n",
       "2024-04-08  186.899994  189.770004  182.669998  186.130005  186.130005   \n",
       "2024-04-15  187.429993  188.690002  173.440002  174.630005  174.630005   \n",
       "2024-04-22  176.940002  180.820007  166.320007  179.619995  179.619995   \n",
       "2024-04-29  182.750000  183.529999  174.800003  175.000000  175.000000   \n",
       "\n",
       "               volume ticker  \n",
       "2020-12-07  121898000   AMZN  \n",
       "2020-12-14  427458000   AMZN  \n",
       "2020-12-21  195038000   AMZN  \n",
       "2020-12-28  334524000   AMZN  \n",
       "2021-01-04  370278000   AMZN  \n",
       "...               ...    ...  \n",
       "2024-04-01  176792100   AMZN  \n",
       "2024-04-08  190222400   AMZN  \n",
       "2024-04-15  198977200   AMZN  \n",
       "2024-04-22  202325700   AMZN  \n",
       "2024-04-29  147809700   AMZN  \n",
       "\n",
       "[178 rows x 7 columns]"
      ]
     },
     "execution_count": 5,
     "metadata": {},
     "output_type": "execute_result"
    }
   ],
   "source": [
    "BSE"
   ]
  },
  {
   "cell_type": "code",
   "execution_count": 114,
   "metadata": {},
   "outputs": [
    {
     "data": {
      "text/plain": [
       "DatetimeIndex(['2020-11-30', '2020-12-07', '2020-12-14', '2020-12-21',\n",
       "               '2020-12-28', '2021-01-04', '2021-01-11', '2021-01-18',\n",
       "               '2021-01-25', '2021-02-01',\n",
       "               ...\n",
       "               '2024-02-26', '2024-03-04', '2024-03-11', '2024-03-18',\n",
       "               '2024-03-25', '2024-04-01', '2024-04-08', '2024-04-15',\n",
       "               '2024-04-22', '2024-04-29'],\n",
       "              dtype='datetime64[ns]', length=179, freq=None)"
      ]
     },
     "execution_count": 114,
     "metadata": {},
     "output_type": "execute_result"
    }
   ],
   "source": [
    "BSE.index"
   ]
  },
  {
   "cell_type": "code",
   "execution_count": 33,
   "metadata": {},
   "outputs": [],
   "source": [
    "#our test data is the last month\n",
    "train=BSE['close'][:-4]\n"
   ]
  },
  {
   "cell_type": "markdown",
   "metadata": {},
   "source": [
    "### Now that we have the data we need to find:\n",
    "\n",
    "#### Expected_return= \"Mean of close till now\" (we can use different methods here)\n",
    "#### Volatility=Standard deviation\n",
    "#### dt=1/252"
   ]
  },
  {
   "cell_type": "code",
   "execution_count": 34,
   "metadata": {},
   "outputs": [
    {
     "data": {
      "text/plain": [
       "Text(13.819444444444445, 0.5, 'Frequency')"
      ]
     },
     "execution_count": 34,
     "metadata": {},
     "output_type": "execute_result"
    },
    {
     "data": {
      "image/png": "[encoded data removed]",
      "text/plain": [
       "<Figure size 500x500 with 1 Axes>"
      ]
     },
     "metadata": {},
     "output_type": "display_data"
    }
   ],
   "source": [
    "log_returns = np.log(1 + train.pct_change()) # Calculating log of Percent change per day (log is taken to normalize)\n",
    "sns.displot(log_returns.iloc[1:])\n",
    "plt.xlabel(\"Daily Return\")\n",
    "plt.ylabel(\"Frequency\")"
   ]
  },
  {
   "cell_type": "code",
   "execution_count": 35,
   "metadata": {},
   "outputs": [],
   "source": [
    "u = log_returns.mean()\n",
    "var = log_returns.var()\n",
    "drift = u - (0.5*var)"
   ]
  },
  {
   "cell_type": "code",
   "execution_count": 36,
   "metadata": {},
   "outputs": [],
   "source": [
    "volatility = np.std(log_returns) * np.sqrt(252)"
   ]
  },
  {
   "cell_type": "code",
   "execution_count": 37,
   "metadata": {},
   "outputs": [],
   "source": [
    "stdev = log_returns.std()\n",
    "trials = 1000"
   ]
  },
  {
   "cell_type": "markdown",
   "metadata": {},
   "source": [
    "S = S0 * np.exp((r - 0.5 * sigma**2) * dt + sigma * np.sqrt(dt) * Z)"
   ]
  },
  {
   "cell_type": "code",
   "execution_count": 38,
   "metadata": {},
   "outputs": [
    {
     "name": "stdout",
     "output_type": "stream",
     "text": [
      "Decimal years: 3.3172\n"
     ]
    }
   ],
   "source": [
    "from dateutil import relativedelta\n",
    "delta = relativedelta.relativedelta(train.index[-1], train.index[0])\n",
    "decimal_years = delta.years + (delta.months + delta.days/31) / 12\n",
    "print(f\"Decimal years: {decimal_years:.4f}\")"
   ]
  },
  {
   "cell_type": "code",
   "execution_count": 39,
   "metadata": {},
   "outputs": [
    {
     "name": "stdout",
     "output_type": "stream",
     "text": [
      "Simulated stock prices at the end of the time horizon:\n",
      "[[ 55.9060452   95.33898066 130.01245337 102.31744418]\n",
      " [ 79.24658755  93.04831891  34.75742404 112.48496474]\n",
      " [ 54.27576582  34.67959032  20.82132622  63.32534681]\n",
      " ...\n",
      " [ 52.38104051  64.12316852 230.20541035 123.75878507]\n",
      " [326.75499728 143.71006589 242.56887443  58.80578634]\n",
      " [277.02708998 455.13443353 448.58953492 245.16729843]]\n"
     ]
    },
    {
     "name": "stderr",
     "output_type": "stream",
     "text": [
      "C:\\Users\\ameya\\AppData\\Local\\Temp\\ipykernel_28028\\2847059277.py:5: FutureWarning: Series.__getitem__ treating keys as positions is deprecated. In a future version, integer keys will always be treated as labels (consistent with DataFrame behavior). To access a value by position, use `ser.iloc[pos]`\n",
      "  stock_prices[:, 0] = train[-1]\n"
     ]
    }
   ],
   "source": [
    "\n",
    "num_steps=4\n",
    "num_paths=1000\n",
    "dt=decimal_years/num_steps\n",
    "stock_prices = np.zeros((num_paths, num_steps+1))\n",
    "stock_prices[:, 0] = train[-1]\n",
    "# Simulate stock prices\n",
    "for path in range(num_paths):\n",
    "        for step in range(1, num_steps + 1):\n",
    "            # Generate a random return for each step\n",
    "            random_return = np.random.normal(loc=(drift- 0.5 * volatility ** 2) * dt,\n",
    "                                             scale=volatility * np.sqrt(dt))\n",
    "            stock_prices[path, step] = stock_prices[path, step - 1] * np.exp(random_return)\n",
    "print(\"Simulated stock prices at the end of the time horizon:\")\n",
    "print(stock_prices[:, 1:])"
   ]
  },
  {
   "cell_type": "code",
   "execution_count": 40,
   "metadata": {},
   "outputs": [
    {
     "data": {
      "text/plain": [
       "array([[185.07000732,  55.9060452 ,  95.33898066, 130.01245337,\n",
       "        102.31744418],\n",
       "       [185.07000732,  79.24658755,  93.04831891,  34.75742404,\n",
       "        112.48496474],\n",
       "       [185.07000732,  54.27576582,  34.67959032,  20.82132622,\n",
       "         63.32534681],\n",
       "       ...,\n",
       "       [185.07000732,  52.38104051,  64.12316852, 230.20541035,\n",
       "        123.75878507],\n",
       "       [185.07000732, 326.75499728, 143.71006589, 242.56887443,\n",
       "         58.80578634],\n",
       "       [185.07000732, 277.02708998, 455.13443353, 448.58953492,\n",
       "        245.16729843]])"
      ]
     },
     "execution_count": 40,
     "metadata": {},
     "output_type": "execute_result"
    }
   ],
   "source": [
    "stock_prices"
   ]
  },
  {
   "cell_type": "code",
   "execution_count": 87,
   "metadata": {
    "scrolled": true
   },
   "outputs": [
    {
     "data": {
      "text/html": [
       "<div>\n",
       "<style scoped>\n",
       "    .dataframe tbody tr th:only-of-type {\n",
       "        vertical-align: middle;\n",
       "    }\n",
       "\n",
       "    .dataframe tbody tr th {\n",
       "        vertical-align: top;\n",
       "    }\n",
       "\n",
       "    .dataframe thead th {\n",
       "        text-align: right;\n",
       "    }\n",
       "</style>\n",
       "<table border=\"1\" class=\"dataframe\">\n",
       "  <thead>\n",
       "    <tr style=\"text-align: right;\">\n",
       "      <th></th>\n",
       "      <th>Week 1</th>\n",
       "      <th>Week 2</th>\n",
       "      <th>Week 3</th>\n",
       "      <th>Week 4</th>\n",
       "    </tr>\n",
       "  </thead>\n",
       "  <tbody>\n",
       "    <tr>\n",
       "      <th>count</th>\n",
       "      <td>1000.000000</td>\n",
       "      <td>1000.000000</td>\n",
       "      <td>1000.000000</td>\n",
       "      <td>1000.000000</td>\n",
       "    </tr>\n",
       "    <tr>\n",
       "      <th>mean</th>\n",
       "      <td>178.649727</td>\n",
       "      <td>180.737808</td>\n",
       "      <td>182.664312</td>\n",
       "      <td>187.735416</td>\n",
       "    </tr>\n",
       "    <tr>\n",
       "      <th>std</th>\n",
       "      <td>149.342946</td>\n",
       "      <td>201.148440</td>\n",
       "      <td>262.009232</td>\n",
       "      <td>357.482669</td>\n",
       "    </tr>\n",
       "    <tr>\n",
       "      <th>min</th>\n",
       "      <td>20.009050</td>\n",
       "      <td>5.752526</td>\n",
       "      <td>0.898473</td>\n",
       "      <td>0.623815</td>\n",
       "    </tr>\n",
       "    <tr>\n",
       "      <th>25%</th>\n",
       "      <td>89.664100</td>\n",
       "      <td>65.781826</td>\n",
       "      <td>45.129429</td>\n",
       "      <td>33.462921</td>\n",
       "    </tr>\n",
       "    <tr>\n",
       "      <th>50%</th>\n",
       "      <td>146.500119</td>\n",
       "      <td>115.921972</td>\n",
       "      <td>99.322662</td>\n",
       "      <td>80.019034</td>\n",
       "    </tr>\n",
       "    <tr>\n",
       "      <th>75%</th>\n",
       "      <td>218.963673</td>\n",
       "      <td>221.469611</td>\n",
       "      <td>204.862262</td>\n",
       "      <td>193.266133</td>\n",
       "    </tr>\n",
       "    <tr>\n",
       "      <th>max</th>\n",
       "      <td>2438.295555</td>\n",
       "      <td>2503.797859</td>\n",
       "      <td>2882.531610</td>\n",
       "      <td>4981.876693</td>\n",
       "    </tr>\n",
       "  </tbody>\n",
       "</table>\n",
       "</div>"
      ],
      "text/plain": [
       "            Week 1       Week 2       Week 3       Week 4\n",
       "count  1000.000000  1000.000000  1000.000000  1000.000000\n",
       "mean    178.649727   180.737808   182.664312   187.735416\n",
       "std     149.342946   201.148440   262.009232   357.482669\n",
       "min      20.009050     5.752526     0.898473     0.623815\n",
       "25%      89.664100    65.781826    45.129429    33.462921\n",
       "50%     146.500119   115.921972    99.322662    80.019034\n",
       "75%     218.963673   221.469611   204.862262   193.266133\n",
       "max    2438.295555  2503.797859  2882.531610  4981.876693"
      ]
     },
     "execution_count": 87,
     "metadata": {},
     "output_type": "execute_result"
    }
   ],
   "source": [
    "Sp=pd.DataFrame(stock_prices[:,1:],columns=[f\"Week {i+1}\" for i in range(num_steps)])\n",
    "Sp.describe()"
   ]
  },
  {
   "cell_type": "code",
   "execution_count": 108,
   "metadata": {},
   "outputs": [
    {
     "data": {
      "image/png": "[encoded data removed]",
      "text/plain": [
       "<Figure size 640x480 with 1 Axes>"
      ]
     },
     "metadata": {},
     "output_type": "display_data"
    }
   ],
   "source": [
    "sns.boxplot(Sp)\n",
    "plt.ylim(0, 300)  # Specify your desired limits here\n",
    "\n",
    "# Show the plot\n",
    "plt.show()"
   ]
  },
  {
   "cell_type": "code",
   "execution_count": 67,
   "metadata": {},
   "outputs": [
    {
     "data": {
      "text/plain": [
       "2024-04-08    186.130005\n",
       "2024-04-15    174.630005\n",
       "2024-04-22    179.619995\n",
       "2024-04-29    175.000000\n",
       "Name: close, dtype: float64"
      ]
     },
     "execution_count": 67,
     "metadata": {},
     "output_type": "execute_result"
    }
   ],
   "source": [
    "BSE['close'][-4:]"
   ]
  },
  {
   "cell_type": "code",
   "execution_count": null,
   "metadata": {},
   "outputs": [],
   "source": []
  },
  {
   "cell_type": "code",
   "execution_count": null,
   "metadata": {},
   "outputs": [],
   "source": []
  },
  {
   "cell_type": "code",
   "execution_count": null,
   "metadata": {},
   "outputs": [],
   "source": []
  },
  {
   "cell_type": "markdown",
   "metadata": {},
   "source": [
    "Referance links:\n",
    "https://medium.com/analytics-vidhya/monte-carlo-simulations-for-predicting-stock-prices-python-a64f53585662\n",
    "https://pbpython.com/monte-carlo.html"
   ]
  }
 ],
 "metadata": {
  "kernelspec": {
   "display_name": "Python 3 (ipykernel)",
   "language": "python",
   "name": "python3"
  },
  "language_info": {
   "codemirror_mode": {
    "name": "ipython",
    "version": 3
   },
   "file_extension": ".py",
   "mimetype": "text/x-python",
   "name": "python",
   "nbconvert_exporter": "python",
   "pygments_lexer": "ipython3",
   "version": "3.12.2"
  }
 },
 "nbformat": 4,
 "nbformat_minor": 4
}
