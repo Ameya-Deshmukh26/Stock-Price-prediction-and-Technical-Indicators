{
 "cells": [
  {
   "cell_type": "markdown",
   "metadata": {},
   "source": [
    "#  Monte Carlo Simulations for Stock Price Predictions "
   ]
  },
  {
   "cell_type": "markdown",
   "metadata": {},
   "source": [
    "### A Monte Carlo simulation runs an enourmous amount of trials with different random numbers generated from an underlying distribution for the uncertain variables.\n",
    "Let us try to implement this using one Technical Indicator as a reference for prediction."
   ]
  },
  {
   "cell_type": "code",
   "execution_count": 3,
   "metadata": {},
   "outputs": [],
   "source": [
    "import pandas as pd\n",
    "import numpy as np\n",
    "import matplotlib.pyplot as plt\n",
    "import plotly.graph_objects as go\n",
    "import pandas_datareader as web\n",
    "import datetime\n",
    "from datetime import date"
   ]
  },
  {
   "cell_type": "code",
   "execution_count": 4,
   "metadata": {},
   "outputs": [],
   "source": [
    "%matplotlib inline\n",
    "from scipy.stats import norm"
   ]
  },
  {
   "cell_type": "code",
   "execution_count": 5,
   "metadata": {},
   "outputs": [],
   "source": [
    "import seaborn as sns"
   ]
  },
  {
   "cell_type": "code",
   "execution_count": 6,
   "metadata": {},
   "outputs": [],
   "source": [
    "BSE = web.get_data_yahoo('BSE.NS',start = datetime.datetime(2011, 1, 2), \n",
    "                             end = date.today())"
   ]
  },
  {
   "cell_type": "code",
   "execution_count": 7,
   "metadata": {},
   "outputs": [],
   "source": [
    "ly=BSE.tail(700).copy()\n"
   ]
  },
  {
   "cell_type": "code",
   "execution_count": 8,
   "metadata": {},
   "outputs": [],
   "source": [
    "ly['Ewm']=BSE.Close.ewm(span= 3, adjust=False).mean()\n"
   ]
  },
  {
   "cell_type": "markdown",
   "metadata": {},
   "source": [
    "\n",
    "\n",
    "Here we're using Pivot Points as an indicator to find the first resistance and subsequently we predict the price\n",
    "\n"
   ]
  },
  {
   "cell_type": "code",
   "execution_count": 9,
   "metadata": {},
   "outputs": [],
   "source": [
    "ly['Pivot Point']=(ly['Close']+ly['High']+ly['Low'])/3\n",
    "ly['Second Resistance']=ly['Pivot Point']-ly['Low']+ly['High']\n"
   ]
  },
  {
   "cell_type": "code",
   "execution_count": 10,
   "metadata": {},
   "outputs": [],
   "source": [
    "ly=ly.drop('Adj Close',axis=1)\n"
   ]
  },
  {
   "cell_type": "code",
   "execution_count": 11,
   "metadata": {},
   "outputs": [
    {
     "data": {
      "text/html": [
       "<div>\n",
       "<style scoped>\n",
       "    .dataframe tbody tr th:only-of-type {\n",
       "        vertical-align: middle;\n",
       "    }\n",
       "\n",
       "    .dataframe tbody tr th {\n",
       "        vertical-align: top;\n",
       "    }\n",
       "\n",
       "    .dataframe thead th {\n",
       "        text-align: right;\n",
       "    }\n",
       "</style>\n",
       "<table border=\"1\" class=\"dataframe\">\n",
       "  <thead>\n",
       "    <tr style=\"text-align: right;\">\n",
       "      <th></th>\n",
       "      <th>High</th>\n",
       "      <th>Low</th>\n",
       "      <th>Open</th>\n",
       "      <th>Close</th>\n",
       "      <th>Volume</th>\n",
       "      <th>Ewm</th>\n",
       "      <th>Pivot Point</th>\n",
       "      <th>Second Resistance</th>\n",
       "      <th>Predicted_Value</th>\n",
       "    </tr>\n",
       "    <tr>\n",
       "      <th>Date</th>\n",
       "      <th></th>\n",
       "      <th></th>\n",
       "      <th></th>\n",
       "      <th></th>\n",
       "      <th></th>\n",
       "      <th></th>\n",
       "      <th></th>\n",
       "      <th></th>\n",
       "      <th></th>\n",
       "    </tr>\n",
       "  </thead>\n",
       "  <tbody>\n",
       "    <tr>\n",
       "      <th>2018-08-10</th>\n",
       "      <td>801.000000</td>\n",
       "      <td>786.150024</td>\n",
       "      <td>792.000000</td>\n",
       "      <td>787.450012</td>\n",
       "      <td>100352.0</td>\n",
       "      <td>792.398621</td>\n",
       "      <td>791.533346</td>\n",
       "      <td>806.383321</td>\n",
       "      <td>NaN</td>\n",
       "    </tr>\n",
       "    <tr>\n",
       "      <th>2018-08-13</th>\n",
       "      <td>783.950012</td>\n",
       "      <td>775.000000</td>\n",
       "      <td>782.000000</td>\n",
       "      <td>777.500000</td>\n",
       "      <td>82550.0</td>\n",
       "      <td>784.949310</td>\n",
       "      <td>778.816671</td>\n",
       "      <td>787.766683</td>\n",
       "      <td>NaN</td>\n",
       "    </tr>\n",
       "    <tr>\n",
       "      <th>2018-08-14</th>\n",
       "      <td>780.349976</td>\n",
       "      <td>770.049988</td>\n",
       "      <td>779.000000</td>\n",
       "      <td>771.900024</td>\n",
       "      <td>81147.0</td>\n",
       "      <td>778.424667</td>\n",
       "      <td>774.099996</td>\n",
       "      <td>784.399984</td>\n",
       "      <td>NaN</td>\n",
       "    </tr>\n",
       "    <tr>\n",
       "      <th>2018-08-16</th>\n",
       "      <td>771.500000</td>\n",
       "      <td>756.000000</td>\n",
       "      <td>771.500000</td>\n",
       "      <td>758.400024</td>\n",
       "      <td>142953.0</td>\n",
       "      <td>768.412346</td>\n",
       "      <td>761.966675</td>\n",
       "      <td>777.466675</td>\n",
       "      <td>NaN</td>\n",
       "    </tr>\n",
       "    <tr>\n",
       "      <th>2018-08-17</th>\n",
       "      <td>764.000000</td>\n",
       "      <td>752.500000</td>\n",
       "      <td>764.000000</td>\n",
       "      <td>759.000000</td>\n",
       "      <td>92738.0</td>\n",
       "      <td>763.706173</td>\n",
       "      <td>758.500000</td>\n",
       "      <td>770.000000</td>\n",
       "      <td>NaN</td>\n",
       "    </tr>\n",
       "    <tr>\n",
       "      <th>...</th>\n",
       "      <td>...</td>\n",
       "      <td>...</td>\n",
       "      <td>...</td>\n",
       "      <td>...</td>\n",
       "      <td>...</td>\n",
       "      <td>...</td>\n",
       "      <td>...</td>\n",
       "      <td>...</td>\n",
       "      <td>...</td>\n",
       "    </tr>\n",
       "    <tr>\n",
       "      <th>2021-06-15</th>\n",
       "      <td>958.400024</td>\n",
       "      <td>925.400024</td>\n",
       "      <td>934.900024</td>\n",
       "      <td>945.150024</td>\n",
       "      <td>1596003.0</td>\n",
       "      <td>936.553896</td>\n",
       "      <td>942.983358</td>\n",
       "      <td>975.983358</td>\n",
       "      <td>966.515487</td>\n",
       "    </tr>\n",
       "    <tr>\n",
       "      <th>2021-06-16</th>\n",
       "      <td>949.700012</td>\n",
       "      <td>926.200012</td>\n",
       "      <td>945.150024</td>\n",
       "      <td>928.900024</td>\n",
       "      <td>469870.0</td>\n",
       "      <td>932.726960</td>\n",
       "      <td>934.933350</td>\n",
       "      <td>958.433350</td>\n",
       "      <td>965.532155</td>\n",
       "    </tr>\n",
       "    <tr>\n",
       "      <th>2021-06-17</th>\n",
       "      <td>931.000000</td>\n",
       "      <td>904.250000</td>\n",
       "      <td>925.000000</td>\n",
       "      <td>907.849976</td>\n",
       "      <td>547529.0</td>\n",
       "      <td>920.288468</td>\n",
       "      <td>914.366659</td>\n",
       "      <td>941.116659</td>\n",
       "      <td>963.403583</td>\n",
       "    </tr>\n",
       "    <tr>\n",
       "      <th>2021-06-18</th>\n",
       "      <td>925.000000</td>\n",
       "      <td>856.900024</td>\n",
       "      <td>916.049988</td>\n",
       "      <td>895.700012</td>\n",
       "      <td>735199.0</td>\n",
       "      <td>907.994240</td>\n",
       "      <td>892.533346</td>\n",
       "      <td>960.633321</td>\n",
       "      <td>960.046440</td>\n",
       "    </tr>\n",
       "    <tr>\n",
       "      <th>2021-06-21</th>\n",
       "      <td>898.000000</td>\n",
       "      <td>873.349976</td>\n",
       "      <td>880.000000</td>\n",
       "      <td>891.000000</td>\n",
       "      <td>162967.0</td>\n",
       "      <td>899.497120</td>\n",
       "      <td>887.449992</td>\n",
       "      <td>912.100016</td>\n",
       "      <td>954.405962</td>\n",
       "    </tr>\n",
       "  </tbody>\n",
       "</table>\n",
       "<p>700 rows × 9 columns</p>\n",
       "</div>"
      ],
      "text/plain": [
       "                  High         Low        Open       Close     Volume  \\\n",
       "Date                                                                    \n",
       "2018-08-10  801.000000  786.150024  792.000000  787.450012   100352.0   \n",
       "2018-08-13  783.950012  775.000000  782.000000  777.500000    82550.0   \n",
       "2018-08-14  780.349976  770.049988  779.000000  771.900024    81147.0   \n",
       "2018-08-16  771.500000  756.000000  771.500000  758.400024   142953.0   \n",
       "2018-08-17  764.000000  752.500000  764.000000  759.000000    92738.0   \n",
       "...                ...         ...         ...         ...        ...   \n",
       "2021-06-15  958.400024  925.400024  934.900024  945.150024  1596003.0   \n",
       "2021-06-16  949.700012  926.200012  945.150024  928.900024   469870.0   \n",
       "2021-06-17  931.000000  904.250000  925.000000  907.849976   547529.0   \n",
       "2021-06-18  925.000000  856.900024  916.049988  895.700012   735199.0   \n",
       "2021-06-21  898.000000  873.349976  880.000000  891.000000   162967.0   \n",
       "\n",
       "                   Ewm  Pivot Point  Second Resistance  Predicted_Value  \n",
       "Date                                                                     \n",
       "2018-08-10  792.398621   791.533346         806.383321              NaN  \n",
       "2018-08-13  784.949310   778.816671         787.766683              NaN  \n",
       "2018-08-14  778.424667   774.099996         784.399984              NaN  \n",
       "2018-08-16  768.412346   761.966675         777.466675              NaN  \n",
       "2018-08-17  763.706173   758.500000         770.000000              NaN  \n",
       "...                ...          ...                ...              ...  \n",
       "2021-06-15  936.553896   942.983358         975.983358       966.515487  \n",
       "2021-06-16  932.726960   934.933350         958.433350       965.532155  \n",
       "2021-06-17  920.288468   914.366659         941.116659       963.403583  \n",
       "2021-06-18  907.994240   892.533346         960.633321       960.046440  \n",
       "2021-06-21  899.497120   887.449992         912.100016       954.405962  \n",
       "\n",
       "[700 rows x 9 columns]"
      ]
     },
     "execution_count": 11,
     "metadata": {},
     "output_type": "execute_result"
    }
   ],
   "source": [
    "ly['Predicted_Value']=ly['Second Resistance'].rolling(14).mean()\n",
    "ly"
   ]
  },
  {
   "cell_type": "markdown",
   "metadata": {},
   "source": [
    "     \n",
    " ### Admittedly this assumption for prediction is quite contrived but Hang in there!!"
   ]
  },
  {
   "cell_type": "code",
   "execution_count": 12,
   "metadata": {},
   "outputs": [
    {
     "data": {
      "text/plain": [
       "[<matplotlib.lines.Line2D at 0x25391d90308>]"
      ]
     },
     "execution_count": 12,
     "metadata": {},
     "output_type": "execute_result"
    },
    {
     "data": {
      "image/png": "[encoded data removed]",
      "text/plain": [
       "<Figure size 700x800 with 1 Axes>"
      ]
     },
     "metadata": {},
     "output_type": "display_data"
    }
   ],
   "source": [
    "fig=plt.figure(figsize=(7,8), dpi= 100, facecolor='w', edgecolor='g')\n",
    "plt.plot(ly['Close'],\"green\")\n",
    "plt.plot(ly['Ewm'],\"pink\")"
   ]
  },
  {
   "cell_type": "markdown",
   "metadata": {},
   "source": [
    "## Now we'll try to get values of the last seven days by looking at seven values prior to them."
   ]
  },
  {
   "cell_type": "code",
   "execution_count": 13,
   "metadata": {},
   "outputs": [
    {
     "data": {
      "text/plain": [
       "(array([1., 1., 0., 1., 1., 0., 1., 0., 1., 1.]),\n",
       " array([874.27142915, 881.71833467, 889.16524019, 896.61214571,\n",
       "        904.05905122, 911.50595674, 918.95286226, 926.39976778,\n",
       "        933.84667329, 941.29357881, 948.74048433]),\n",
       " <a list of 10 Patch objects>)"
      ]
     },
     "execution_count": 13,
     "metadata": {},
     "output_type": "execute_result"
    },
    {
     "data": {
      "image/png": "[encoded data removed]",
      "text/plain": [
       "<Figure size 432x288 with 1 Axes>"
      ]
     },
     "metadata": {
      "needs_background": "light"
     },
     "output_type": "display_data"
    }
   ],
   "source": [
    "plt.hist(x=ly['Predicted_Value'][-14:-7])"
   ]
  },
  {
   "cell_type": "code",
   "execution_count": 14,
   "metadata": {},
   "outputs": [
    {
     "data": {
      "text/plain": [
       "count      7.000000\n",
       "mean     910.757997\n",
       "std       26.681074\n",
       "min      874.271429\n",
       "25%      892.226787\n",
       "50%      910.279765\n",
       "75%      928.780363\n",
       "max      948.740484\n",
       "Name: Predicted_Value, dtype: float64"
      ]
     },
     "execution_count": 14,
     "metadata": {},
     "output_type": "execute_result"
    }
   ],
   "source": [
    "ly['Predicted_Value'][-14:-7].describe()"
   ]
  },
  {
   "cell_type": "markdown",
   "metadata": {},
   "source": [
    "Now we'll want to know how close is our prediction method in finding the real values for the seven days prior to what we are going to be predicting."
   ]
  },
  {
   "cell_type": "markdown",
   "metadata": {},
   "source": [
    "We'll call it \"percentage to target\" "
   ]
  },
  {
   "cell_type": "code",
   "execution_count": 18,
   "metadata": {},
   "outputs": [
    {
     "data": {
      "text/plain": [
       "array([1.05253355, 1.05055316, 1.03378984, 1.02331177, 1.00280303,\n",
       "       0.97487269, 0.9835672 ])"
      ]
     },
     "execution_count": 18,
     "metadata": {},
     "output_type": "execute_result"
    }
   ],
   "source": [
    "pct_to_target=ly['Close'][-14:-7]/ly['Predicted_Value'][-14:-7]\n",
    "pct_to_target=np.array(pct_to_target)\n",
    "pct_to_target"
   ]
  },
  {
   "cell_type": "markdown",
   "metadata": {},
   "source": [
    "# We'll now multipy these values with a normal distribution"
   ]
  },
  {
   "cell_type": "code",
   "execution_count": 31,
   "metadata": {},
   "outputs": [
    {
     "data": {
      "text/plain": [
       "array([905.71, 882.59, 888.97, 913.91, 925.28, 920.16, 921.01])"
      ]
     },
     "execution_count": 31,
     "metadata": {},
     "output_type": "execute_result"
    }
   ],
   "source": [
    "Random=np.random.normal( ly['Predicted_Value'][-14:-7].ewm(span=1, adjust=False).mean(),ly['Predicted_Value'][-14:-7].std(),ly['Predicted_Value'][-14:-7].count()).round(2)\n",
    "\n",
    "Random"
   ]
  },
  {
   "cell_type": "code",
   "execution_count": 32,
   "metadata": {},
   "outputs": [
    {
     "data": {
      "text/html": [
       "<div>\n",
       "<style scoped>\n",
       "    .dataframe tbody tr th:only-of-type {\n",
       "        vertical-align: middle;\n",
       "    }\n",
       "\n",
       "    .dataframe tbody tr th {\n",
       "        vertical-align: top;\n",
       "    }\n",
       "\n",
       "    .dataframe thead th {\n",
       "        text-align: right;\n",
       "    }\n",
       "</style>\n",
       "<table border=\"1\" class=\"dataframe\">\n",
       "  <thead>\n",
       "    <tr style=\"text-align: right;\">\n",
       "      <th></th>\n",
       "      <th>Pct_To_Target</th>\n",
       "      <th>Random</th>\n",
       "      <th>Prediction</th>\n",
       "    </tr>\n",
       "    <tr>\n",
       "      <th>Date</th>\n",
       "      <th></th>\n",
       "      <th></th>\n",
       "      <th></th>\n",
       "    </tr>\n",
       "  </thead>\n",
       "  <tbody>\n",
       "    <tr>\n",
       "      <th>2021-06-11</th>\n",
       "      <td>1.052534</td>\n",
       "      <td>905.71</td>\n",
       "      <td>953.290163</td>\n",
       "    </tr>\n",
       "    <tr>\n",
       "      <th>2021-06-14</th>\n",
       "      <td>1.050553</td>\n",
       "      <td>882.59</td>\n",
       "      <td>927.207711</td>\n",
       "    </tr>\n",
       "    <tr>\n",
       "      <th>2021-06-15</th>\n",
       "      <td>1.033790</td>\n",
       "      <td>888.97</td>\n",
       "      <td>919.008152</td>\n",
       "    </tr>\n",
       "    <tr>\n",
       "      <th>2021-06-16</th>\n",
       "      <td>1.023312</td>\n",
       "      <td>913.91</td>\n",
       "      <td>935.214862</td>\n",
       "    </tr>\n",
       "    <tr>\n",
       "      <th>2021-06-17</th>\n",
       "      <td>1.002803</td>\n",
       "      <td>925.28</td>\n",
       "      <td>927.873590</td>\n",
       "    </tr>\n",
       "    <tr>\n",
       "      <th>2021-06-18</th>\n",
       "      <td>0.974873</td>\n",
       "      <td>920.16</td>\n",
       "      <td>897.038853</td>\n",
       "    </tr>\n",
       "    <tr>\n",
       "      <th>2021-06-21</th>\n",
       "      <td>0.983567</td>\n",
       "      <td>921.01</td>\n",
       "      <td>905.875230</td>\n",
       "    </tr>\n",
       "  </tbody>\n",
       "</table>\n",
       "</div>"
      ],
      "text/plain": [
       "            Pct_To_Target  Random  Prediction\n",
       "Date                                         \n",
       "2021-06-11       1.052534  905.71  953.290163\n",
       "2021-06-14       1.050553  882.59  927.207711\n",
       "2021-06-15       1.033790  888.97  919.008152\n",
       "2021-06-16       1.023312  913.91  935.214862\n",
       "2021-06-17       1.002803  925.28  927.873590\n",
       "2021-06-18       0.974873  920.16  897.038853\n",
       "2021-06-21       0.983567  921.01  905.875230"
      ]
     },
     "execution_count": 32,
     "metadata": {},
     "output_type": "execute_result"
    }
   ],
   "source": [
    "df = pd.DataFrame(index=ly.tail(7).index, data={'Pct_To_Target': pct_to_target,\n",
    "                                               'Random': Random})\n",
    "\n",
    "df['Prediction'] = df['Pct_To_Target'] * df['Random']\n",
    "df"
   ]
  },
  {
   "cell_type": "code",
   "execution_count": 54,
   "metadata": {
    "scrolled": true
   },
   "outputs": [
    {
     "data": {
      "text/plain": [
       "[<matplotlib.lines.Line2D at 0x253942fdd88>]"
      ]
     },
     "execution_count": 54,
     "metadata": {},
     "output_type": "execute_result"
    },
    {
     "data": {
      "image/png": "[encoded data removed]",
      "text/plain": [
       "<Figure size 700x400 with 1 Axes>"
      ]
     },
     "metadata": {},
     "output_type": "display_data"
    }
   ],
   "source": [
    "fig=plt.figure(figsize=(7,4), dpi= 100, facecolor='w', edgecolor='g')\n",
    "plt.plot(ly['Close'].tail(7),\"green\")\n",
    "plt.plot(df['Prediction'],\"pink\")"
   ]
  },
  {
   "cell_type": "markdown",
   "metadata": {},
   "source": [
    "As you can see the prediction is \"quite off\" it\"ll show some relevance to the market as we've used one technical indicator but this idea was very inefficient."
   ]
  },
  {
   "cell_type": "markdown",
   "metadata": {},
   "source": [
    "Let's give it another try by using the basic definition of \"Monte Carlo\" that is to loop these random values many times to get some better results,but again do exect it to be very accurate as the premise of our idea is quite inadequate."
   ]
  },
  {
   "cell_type": "code",
   "execution_count": 34,
   "metadata": {},
   "outputs": [
    {
     "data": {
      "text/html": [
       "<div>\n",
       "<style scoped>\n",
       "    .dataframe tbody tr th:only-of-type {\n",
       "        vertical-align: middle;\n",
       "    }\n",
       "\n",
       "    .dataframe tbody tr th {\n",
       "        vertical-align: top;\n",
       "    }\n",
       "\n",
       "    .dataframe thead th {\n",
       "        text-align: right;\n",
       "    }\n",
       "</style>\n",
       "<table border=\"1\" class=\"dataframe\">\n",
       "  <thead>\n",
       "    <tr style=\"text-align: right;\">\n",
       "      <th></th>\n",
       "      <th>Pct_To_Target</th>\n",
       "      <th>Random</th>\n",
       "    </tr>\n",
       "    <tr>\n",
       "      <th>Date</th>\n",
       "      <th></th>\n",
       "      <th></th>\n",
       "    </tr>\n",
       "  </thead>\n",
       "  <tbody>\n",
       "    <tr>\n",
       "      <th>2021-06-11</th>\n",
       "      <td>1.052534</td>\n",
       "      <td>905.71</td>\n",
       "    </tr>\n",
       "    <tr>\n",
       "      <th>2021-06-14</th>\n",
       "      <td>1.050553</td>\n",
       "      <td>882.59</td>\n",
       "    </tr>\n",
       "    <tr>\n",
       "      <th>2021-06-15</th>\n",
       "      <td>1.033790</td>\n",
       "      <td>888.97</td>\n",
       "    </tr>\n",
       "    <tr>\n",
       "      <th>2021-06-16</th>\n",
       "      <td>1.023312</td>\n",
       "      <td>913.91</td>\n",
       "    </tr>\n",
       "    <tr>\n",
       "      <th>2021-06-17</th>\n",
       "      <td>1.002803</td>\n",
       "      <td>925.28</td>\n",
       "    </tr>\n",
       "    <tr>\n",
       "      <th>2021-06-18</th>\n",
       "      <td>0.974873</td>\n",
       "      <td>920.16</td>\n",
       "    </tr>\n",
       "    <tr>\n",
       "      <th>2021-06-21</th>\n",
       "      <td>0.983567</td>\n",
       "      <td>921.01</td>\n",
       "    </tr>\n",
       "  </tbody>\n",
       "</table>\n",
       "</div>"
      ],
      "text/plain": [
       "            Pct_To_Target  Random\n",
       "Date                             \n",
       "2021-06-11       1.052534  905.71\n",
       "2021-06-14       1.050553  882.59\n",
       "2021-06-15       1.033790  888.97\n",
       "2021-06-16       1.023312  913.91\n",
       "2021-06-17       1.002803  925.28\n",
       "2021-06-18       0.974873  920.16\n",
       "2021-06-21       0.983567  921.01"
      ]
     },
     "execution_count": 34,
     "metadata": {},
     "output_type": "execute_result"
    }
   ],
   "source": [
    "df = pd.DataFrame(index=ly.tail(7).index, data={'Pct_To_Target': pct_to_target,\n",
    "                                               'Random': Random})\n",
    "all_stats =pd.DataFrame(index=ly.tail(7).index, data={'Prediction':df['Pct_To_Target'][-14:-7]*df['Random'][-14:-7]})\n",
    "df"
   ]
  },
  {
   "cell_type": "code",
   "execution_count": 51,
   "metadata": {},
   "outputs": [],
   "source": [
    "pct_to_target=ly['Close'][-14:-7]/ly['Predicted_Value'][-14:-7]\n",
    "pct_to_target=np.array(pct_to_target)\n",
    "Random=np.random.normal( ly['Predicted_Value'][-14:-7].ewm(span= 1, adjust=False).mean(),ly['Predicted_Value'][-14:-7].std(),ly['Predicted_Value'][-14:-7].count()).round(2)\n",
    "\n",
    "df = pd.DataFrame(index=ly.tail(7).index, data={'Pct_To_Target': pct_to_target,\n",
    "                                               'Random': Random})\n",
    "\n",
    "all_stats =pd.DataFrame(index=ly.tail(7).index, data={'Prediction':df['Pct_To_Target'] * df['Random']})\n",
    "for i in range(1000):\n",
    "    \n",
    "\n",
    "    Random=np.random.normal( ly['Predicted_Value'][-14:-7].ewm(span= 1, adjust=False).mean(),ly['Predicted_Value'][-14:-7].std(),ly['Predicted_Value'][-14:-7].count()).round(2)\n",
    "\n",
    "\n",
    "\n",
    "    df['Prediction'] = df['Pct_To_Target'] * df['Random']\n",
    "\n",
    "    all_stats['Prediction']=df['Prediction']+all_stats['Prediction']\n",
    "                                           "
   ]
  },
  {
   "cell_type": "code",
   "execution_count": 52,
   "metadata": {},
   "outputs": [
    {
     "data": {
      "text/html": [
       "<div>\n",
       "<style scoped>\n",
       "    .dataframe tbody tr th:only-of-type {\n",
       "        vertical-align: middle;\n",
       "    }\n",
       "\n",
       "    .dataframe tbody tr th {\n",
       "        vertical-align: top;\n",
       "    }\n",
       "\n",
       "    .dataframe thead th {\n",
       "        text-align: right;\n",
       "    }\n",
       "</style>\n",
       "<table border=\"1\" class=\"dataframe\">\n",
       "  <thead>\n",
       "    <tr style=\"text-align: right;\">\n",
       "      <th></th>\n",
       "      <th>Prediction</th>\n",
       "    </tr>\n",
       "    <tr>\n",
       "      <th>Date</th>\n",
       "      <th></th>\n",
       "    </tr>\n",
       "  </thead>\n",
       "  <tbody>\n",
       "    <tr>\n",
       "      <th>2021-06-11</th>\n",
       "      <td>891.239005</td>\n",
       "    </tr>\n",
       "    <tr>\n",
       "      <th>2021-06-14</th>\n",
       "      <td>954.099015</td>\n",
       "    </tr>\n",
       "    <tr>\n",
       "      <th>2021-06-15</th>\n",
       "      <td>978.063551</td>\n",
       "    </tr>\n",
       "    <tr>\n",
       "      <th>2021-06-16</th>\n",
       "      <td>944.262811</td>\n",
       "    </tr>\n",
       "    <tr>\n",
       "      <th>2021-06-17</th>\n",
       "      <td>958.082480</td>\n",
       "    </tr>\n",
       "    <tr>\n",
       "      <th>2021-06-18</th>\n",
       "      <td>941.214731</td>\n",
       "    </tr>\n",
       "    <tr>\n",
       "      <th>2021-06-21</th>\n",
       "      <td>917.000742</td>\n",
       "    </tr>\n",
       "  </tbody>\n",
       "</table>\n",
       "</div>"
      ],
      "text/plain": [
       "            Prediction\n",
       "Date                  \n",
       "2021-06-11  891.239005\n",
       "2021-06-14  954.099015\n",
       "2021-06-15  978.063551\n",
       "2021-06-16  944.262811\n",
       "2021-06-17  958.082480\n",
       "2021-06-18  941.214731\n",
       "2021-06-21  917.000742"
      ]
     },
     "execution_count": 52,
     "metadata": {},
     "output_type": "execute_result"
    }
   ],
   "source": [
    "all_stats['Prediction']=all_stats['Prediction']/1000\n",
    "all_stats"
   ]
  },
  {
   "cell_type": "code",
   "execution_count": 53,
   "metadata": {},
   "outputs": [
    {
     "data": {
      "text/plain": [
       "[<matplotlib.lines.Line2D at 0x2539429b3c8>]"
      ]
     },
     "execution_count": 53,
     "metadata": {},
     "output_type": "execute_result"
    },
    {
     "data": {
      "image/png": "[encoded data removed]",
      "text/plain": [
       "<Figure size 1200x500 with 1 Axes>"
      ]
     },
     "metadata": {
      "needs_background": "light"
     },
     "output_type": "display_data"
    }
   ],
   "source": [
    "fig=plt.figure(figsize=(12,5),dpi=100)\n",
    "plt.plot(ly['Close'].tail(7),\"green\")\n",
    "plt.plot(all_stats['Prediction'],'pink')"
   ]
  },
  {
   "cell_type": "markdown",
   "metadata": {},
   "source": [
    "This is not a very surprising result that out prediciton before the looping and after are same [We just got lucky that our random values alligned]."
   ]
  },
  {
   "cell_type": "markdown",
   "metadata": {},
   "source": [
    "# This result clearly indicates that there needs to be a solid mathematical foundation to our idea."
   ]
  },
  {
   "cell_type": "markdown",
   "metadata": {},
   "source": [
    "# We'll be using the concept of \"Brownian Motion\"\n",
    "Brownian motion will be the main driver for estimating the return. It is a stochastic process used for modeling random behavior over time."
   ]
  },
  {
   "cell_type": "code",
   "execution_count": 163,
   "metadata": {},
   "outputs": [
    {
     "data": {
      "text/plain": [
       "Text(6.674999999999997, 0.5, 'Frequency')"
      ]
     },
     "execution_count": 163,
     "metadata": {},
     "output_type": "execute_result"
    },
    {
     "data": {
      "image/png": "[encoded data removed]",
      "text/plain": [
       "<Figure size 360x360 with 1 Axes>"
      ]
     },
     "metadata": {
      "needs_background": "light"
     },
     "output_type": "display_data"
    }
   ],
   "source": [
    "log_returns = np.log(1 + ly['Close'][-7:].pct_change())\n",
    "sns.displot(log_returns.iloc[1:])\n",
    "plt.xlabel(\"Daily Return\")\n",
    "plt.ylabel(\"Frequency\")"
   ]
  },
  {
   "cell_type": "code",
   "execution_count": 164,
   "metadata": {},
   "outputs": [],
   "source": [
    "u = log_returns.mean()\n",
    "var = log_returns.var()\n",
    "drift = u - (0.5*var)"
   ]
  },
  {
   "cell_type": "code",
   "execution_count": 165,
   "metadata": {},
   "outputs": [],
   "source": [
    "stdev = log_returns.std()\n",
    "days = 7\n",
    "trials = 1000\n",
    "Z = norm.ppf(np.random.rand(days, trials)) #days, trials \n",
    "\n",
    "#[This is the Monte Carlo concept of using an enourmous amount of trials\n",
    "# with different random numbers generated from an underlying distribution for the uncertain variables.]\n",
    "\n",
    "#daily_returns = np.exp(drift.values + stdev.values * Z)here stdev*z is the Volatility"
   ]
  },
  {
   "cell_type": "code",
   "execution_count": 166,
   "metadata": {},
   "outputs": [],
   "source": [
    "daily_returns = np.exp(drift + stdev* Z) #In this step we have to generate random variables for every day forecasted and for every simulation trial we will run."
   ]
  },
  {
   "cell_type": "markdown",
   "metadata": {},
   "source": [
    " We've now computed the drift,variance and daily_returns.\n",
    " \n",
    " Now we'll calculate the Stock Price Path."
   ]
  },
  {
   "cell_type": "code",
   "execution_count": 167,
   "metadata": {},
   "outputs": [],
   "source": [
    "price_paths = np.zeros_like(daily_returns)\n",
    "price_paths[0] = ly['Close'][-14:-7].iloc[-1]\n",
    "for t in range(1, days):\n",
    "    price_paths[t] = price_paths[t-1]*daily_returns[t]"
   ]
  },
  {
   "cell_type": "code",
   "execution_count": 171,
   "metadata": {},
   "outputs": [
    {
     "data": {
      "text/plain": [
       "array([[911.59997559, 911.59997559, 911.59997559, ..., 911.59997559,\n",
       "        911.59997559, 911.59997559],\n",
       "       [904.8641472 , 920.16609861, 911.05824071, ..., 930.32513925,\n",
       "        943.31219879, 885.95993981],\n",
       "       [875.92269193, 919.01942908, 929.97036252, ..., 917.68669834,\n",
       "        939.76851603, 879.92738538],\n",
       "       ...,\n",
       "       [847.39574415, 936.03030915, 913.18581973, ..., 896.69686312,\n",
       "        921.45132626, 850.81515062],\n",
       "       [881.61134126, 944.19977098, 932.38403764, ..., 870.70803793,\n",
       "        913.76765368, 857.49379709],\n",
       "       [875.02277649, 908.07458238, 939.94009476, ..., 872.72797304,\n",
       "        915.00102293, 858.8153527 ]])"
      ]
     },
     "execution_count": 171,
     "metadata": {},
     "output_type": "execute_result"
    }
   ],
   "source": [
    "price_paths "
   ]
  },
  {
   "cell_type": "markdown",
   "metadata": {},
   "source": [
    "## Comparing the histogram plot with close values \n",
    "We can safely infer that this model is good enough to put your bets on."
   ]
  },
  {
   "cell_type": "code",
   "execution_count": 169,
   "metadata": {},
   "outputs": [
    {
     "data": {
      "image/png": "[encoded data removed]",
      "text/plain": [
       "<Figure size 1200x500 with 1 Axes>"
      ]
     },
     "metadata": {
      "needs_background": "light"
     },
     "output_type": "display_data"
    }
   ],
   "source": [
    "fig=plt.figure(figsize=(12,5),dpi=100)\n",
    "plt.hist(price_paths)\n",
    "\n",
    "plt.show()"
   ]
  },
  {
   "cell_type": "markdown",
   "metadata": {},
   "source": [
    "This plot represents the probable regions where the stock prices can land up.\n",
    "We can see that the price range is highest in the 930 region then in the 885 and 870 region it is quite similar compare this with the close prices."
   ]
  },
  {
   "cell_type": "code",
   "execution_count": 56,
   "metadata": {},
   "outputs": [
    {
     "data": {
      "text/html": [
       "<div>\n",
       "<style scoped>\n",
       "    .dataframe tbody tr th:only-of-type {\n",
       "        vertical-align: middle;\n",
       "    }\n",
       "\n",
       "    .dataframe tbody tr th {\n",
       "        vertical-align: top;\n",
       "    }\n",
       "\n",
       "    .dataframe thead th {\n",
       "        text-align: right;\n",
       "    }\n",
       "</style>\n",
       "<table border=\"1\" class=\"dataframe\">\n",
       "  <thead>\n",
       "    <tr style=\"text-align: right;\">\n",
       "      <th></th>\n",
       "      <th>High</th>\n",
       "      <th>Low</th>\n",
       "      <th>Open</th>\n",
       "      <th>Close</th>\n",
       "      <th>Volume</th>\n",
       "      <th>Ewm</th>\n",
       "      <th>Pivot Point</th>\n",
       "      <th>Second Resistance</th>\n",
       "    </tr>\n",
       "    <tr>\n",
       "      <th>Date</th>\n",
       "      <th></th>\n",
       "      <th></th>\n",
       "      <th></th>\n",
       "      <th></th>\n",
       "      <th></th>\n",
       "      <th></th>\n",
       "      <th></th>\n",
       "      <th></th>\n",
       "    </tr>\n",
       "  </thead>\n",
       "  <tbody>\n",
       "    <tr>\n",
       "      <th>2021-06-11</th>\n",
       "      <td>947.750000</td>\n",
       "      <td>922.000000</td>\n",
       "      <td>940.000000</td>\n",
       "      <td>924.250000</td>\n",
       "      <td>464113.0</td>\n",
       "      <td>925.315561</td>\n",
       "      <td>931.333333</td>\n",
       "      <td>957.083333</td>\n",
       "    </tr>\n",
       "    <tr>\n",
       "      <th>2021-06-14</th>\n",
       "      <td>941.000000</td>\n",
       "      <td>896.150024</td>\n",
       "      <td>928.900024</td>\n",
       "      <td>930.599976</td>\n",
       "      <td>593876.0</td>\n",
       "      <td>927.957769</td>\n",
       "      <td>922.583333</td>\n",
       "      <td>967.433309</td>\n",
       "    </tr>\n",
       "    <tr>\n",
       "      <th>2021-06-15</th>\n",
       "      <td>958.400024</td>\n",
       "      <td>925.400024</td>\n",
       "      <td>934.900024</td>\n",
       "      <td>945.150024</td>\n",
       "      <td>1596003.0</td>\n",
       "      <td>936.553896</td>\n",
       "      <td>942.983358</td>\n",
       "      <td>975.983358</td>\n",
       "    </tr>\n",
       "    <tr>\n",
       "      <th>2021-06-16</th>\n",
       "      <td>949.700012</td>\n",
       "      <td>926.200012</td>\n",
       "      <td>945.150024</td>\n",
       "      <td>928.900024</td>\n",
       "      <td>469870.0</td>\n",
       "      <td>932.726960</td>\n",
       "      <td>934.933350</td>\n",
       "      <td>958.433350</td>\n",
       "    </tr>\n",
       "    <tr>\n",
       "      <th>2021-06-17</th>\n",
       "      <td>931.000000</td>\n",
       "      <td>904.250000</td>\n",
       "      <td>925.000000</td>\n",
       "      <td>907.849976</td>\n",
       "      <td>547529.0</td>\n",
       "      <td>920.288468</td>\n",
       "      <td>914.366659</td>\n",
       "      <td>941.116659</td>\n",
       "    </tr>\n",
       "    <tr>\n",
       "      <th>2021-06-18</th>\n",
       "      <td>925.000000</td>\n",
       "      <td>856.900024</td>\n",
       "      <td>916.049988</td>\n",
       "      <td>895.700012</td>\n",
       "      <td>735199.0</td>\n",
       "      <td>907.994240</td>\n",
       "      <td>892.533346</td>\n",
       "      <td>960.633321</td>\n",
       "    </tr>\n",
       "    <tr>\n",
       "      <th>2021-06-21</th>\n",
       "      <td>898.000000</td>\n",
       "      <td>873.349976</td>\n",
       "      <td>880.000000</td>\n",
       "      <td>891.000000</td>\n",
       "      <td>162967.0</td>\n",
       "      <td>899.497120</td>\n",
       "      <td>887.449992</td>\n",
       "      <td>912.100016</td>\n",
       "    </tr>\n",
       "  </tbody>\n",
       "</table>\n",
       "</div>"
      ],
      "text/plain": [
       "                  High         Low        Open       Close     Volume  \\\n",
       "Date                                                                    \n",
       "2021-06-11  947.750000  922.000000  940.000000  924.250000   464113.0   \n",
       "2021-06-14  941.000000  896.150024  928.900024  930.599976   593876.0   \n",
       "2021-06-15  958.400024  925.400024  934.900024  945.150024  1596003.0   \n",
       "2021-06-16  949.700012  926.200012  945.150024  928.900024   469870.0   \n",
       "2021-06-17  931.000000  904.250000  925.000000  907.849976   547529.0   \n",
       "2021-06-18  925.000000  856.900024  916.049988  895.700012   735199.0   \n",
       "2021-06-21  898.000000  873.349976  880.000000  891.000000   162967.0   \n",
       "\n",
       "                   Ewm  Pivot Point  Second Resistance  \n",
       "Date                                                    \n",
       "2021-06-11  925.315561   931.333333         957.083333  \n",
       "2021-06-14  927.957769   922.583333         967.433309  \n",
       "2021-06-15  936.553896   942.983358         975.983358  \n",
       "2021-06-16  932.726960   934.933350         958.433350  \n",
       "2021-06-17  920.288468   914.366659         941.116659  \n",
       "2021-06-18  907.994240   892.533346         960.633321  \n",
       "2021-06-21  899.497120   887.449992         912.100016  "
      ]
     },
     "execution_count": 56,
     "metadata": {},
     "output_type": "execute_result"
    }
   ],
   "source": [
    "ly=ly.drop(\"Predicted_Value\",axis=1)\n",
    "ly.tail(7)"
   ]
  },
  {
   "cell_type": "markdown",
   "metadata": {},
   "source": [
    "Referance links:\n",
    "https://medium.com/analytics-vidhya/monte-carlo-simulations-for-predicting-stock-prices-python-a64f53585662\n",
    "https://pbpython.com/monte-carlo.html"
   ]
  }
 ],
 "metadata": {
  "kernelspec": {
   "display_name": "Python 3",
   "language": "python",
   "name": "python3"
  },
  "language_info": {
   "codemirror_mode": {
    "name": "ipython",
    "version": 3
   },
   "file_extension": ".py",
   "mimetype": "text/x-python",
   "name": "python",
   "nbconvert_exporter": "python",
   "pygments_lexer": "ipython3",
   "version": "3.7.6"
  }
 },
 "nbformat": 4,
 "nbformat_minor": 4
}
